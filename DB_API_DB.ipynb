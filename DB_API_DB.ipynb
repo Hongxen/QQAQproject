{
 "cells": [
  {
   "cell_type": "code",
   "execution_count": 1,
   "metadata": {},
   "outputs": [],
   "source": [
    "import json\n",
    "from time import strftime\n",
    "from datetime import datetime, timedelta\n",
    "import urllib.request\n",
    "#from apscheduler.schedulers.blocking import BlockingScheduler\n",
    "import time\n",
    "import requests\n",
    "import numpy as np\n",
    "import pymysql"
   ]
  },
  {
   "cell_type": "code",
   "execution_count": 22,
   "metadata": {},
   "outputs": [
    {
     "name": "stdout",
     "output_type": "stream",
     "text": [
      "基隆 基隆市 1 121.760056 25.129167\n"
     ]
    },
    {
     "name": "stderr",
     "output_type": "stream",
     "text": [
      "C:\\Users\\hong5\\anaconda3\\lib\\site-packages\\urllib3\\connectionpool.py:986: InsecureRequestWarning: Unverified HTTPS request is being made to host 'data.epa.gov.tw'. Adding certificate verification is strongly advised. See: https://urllib3.readthedocs.io/en/latest/advanced-usage.html#ssl-warnings\n",
      "  InsecureRequestWarning,\n"
     ]
    }
   ],
   "source": [
    "r = requests.get(\"https://data.epa.gov.tw/api/v1/aqx_p_432?limit=1000&api_key=9be7b239-557b-4c10-9775-78cadfc555e9&format=json\", verify=False)\n",
    "a=json.loads(r.text)\n",
    "#for i in range(len(a['records'])):#搜尋每個測站\n",
    "label=a['records'][0]   \n",
    "print(label['SiteName'],label['County'],label['SiteId'],label['Longitude'],label['Latitude'])"
   ]
  },
  {
   "cell_type": "code",
   "execution_count": 23,
   "metadata": {},
   "outputs": [],
   "source": [
    "conn = pymysql.Connect(host = '127.0.0.1',\n",
    "                       port = 3306,\n",
    "                       user = 'QQAQ',\n",
    "                       passwd = 'qqaqqqaq',\n",
    "                       db = 'qqaq',\n",
    "                       charset='utf8')\n",
    "H=datetime.now().hour\n",
    "for i in range(len(a['records'])):#搜尋每個測站\n",
    "    label=a['records'][i]\n",
    "    sid=int(label['SiteId'])\n",
    "    AQI=str(label['AQI'])\n",
    "    SO2=str(label['SO2'])\n",
    "    PM25=str(label['PM2.5'])\n",
    "    PM10=str(label['PM10'])\n",
    "    CO=str(label['CO'])\n",
    "    O3=str(label['O3'])\n",
    "    direct=str(label['WindDirec'])\n",
    "    speed=str(label['WindSpeed'])\n",
    "    cur = conn.cursor()\n",
    "    #sql = \"INSERT INTO `station_info`(`id`,`station`, `county`,`longitude`, `latitude`) values(%d,'%s','%s',%f,%f);\"%(sid,station,county,longt,laitt)\n",
    "    #values = (label['SiteId'],label['SiteName'],label['County'],label['Longitude'],label['Latitude'])\n",
    "    sql = \"INSERT INTO `history`(`sid`, `AQI`, `PM10`, `O3`, `CO`, `SO2`, `PM25`, `direct`, `speed`) VALUES( %d,'%s','%s','%s','%s','%s','%s','%s','%s');\"%(sid,AQI,PM10,O3,CO,SO2,PM25,direct,speed)\n",
    "    cur.execute(sql)\n",
    "    conn.commit()"
   ]
  },
  {
   "cell_type": "code",
   "execution_count": 30,
   "metadata": {},
   "outputs": [
    {
     "name": "stdout",
     "output_type": "stream",
     "text": [
      "11 嘉義市 14.20 0.59\n",
      "18 臺東縣 14.30 0.72\n",
      "1 臺北市 11.30 0.73\n",
      "3 桃園市 12.20 0.58\n",
      "12 嘉義縣 12.90 0.61\n",
      "14 高雄市 15 0.56\n",
      "6 苗栗縣 11.80 0.59\n",
      "10 雲林縣 11.90 0.89\n",
      "0 基隆市 11.70 0.58\n",
      "7 臺中市 14 0.71\n",
      "4 新竹縣 12.50 0.53\n",
      "5 新竹市 12.50 0.53\n",
      "19 澎湖縣 14.10 0.47\n",
      "2 新北市 11.50 0.64\n",
      "16 宜蘭縣 12.60 0.58\n",
      "15 屏東縣 16.70 0.64\n",
      "20 金門縣 14 0.27\n",
      "9 南投縣 8 0.93\n",
      "17 花蓮縣 13.20 0.87\n",
      "8 彰化縣 13.70 0.55\n",
      "21 連江縣 10 0.38\n",
      "13 臺南市 15 0.53\n"
     ]
    },
    {
     "name": "stderr",
     "output_type": "stream",
     "text": [
      "C:\\Users\\hong5\\anaconda3\\lib\\site-packages\\urllib3\\connectionpool.py:986: InsecureRequestWarning: Unverified HTTPS request is being made to host 'opendata.cwb.gov.tw'. Adding certificate verification is strongly advised. See: https://urllib3.readthedocs.io/en/latest/advanced-usage.html#ssl-warnings\n",
      "  InsecureRequestWarning,\n"
     ]
    }
   ],
   "source": [
    "Y=int(datetime.now().year)\n",
    "M=int(datetime.now().month)\n",
    "D=int(datetime.now().day)\n",
    "H=int(datetime.now().hour)\n",
    "county = ['基隆','臺北','板橋','新屋','新竹','新竹','國三S156K','臺中','田中','日月潭','古坑','嘉義','國一N250K','永康','高雄','恆春','宜蘭','花蓮','臺東','澎湖','金門','馬祖']\n",
    "s = requests.get(\"https://opendata.cwb.gov.tw/api/v1/rest/datastore/O-A0003-001?Authorization=CWB-5702404A-5F4B-4CFE-8162-C11C29E66532&format=JSON&elementName=\", verify=False)\n",
    "b=json.loads(s.text)\n",
    "for i in range(len(b['records']['location'])):\n",
    "    city=b['records']['location'][i]['parameter'][0]['parameterValue']\n",
    "    cout=b['records']['location'][i]['locationName']\n",
    "    temp=b['records']['location'][i]['weatherElement'][3]['elementValue']#溫度\n",
    "    humid=b['records']['location'][i]['weatherElement'][4]['elementValue']#濕度\n",
    "    if float(temp) == -99:\n",
    "        temp = np.nan\n",
    "    if float(humid) == -99:\n",
    "        humid = np.nan\n",
    "    for j in range(len(county)):\n",
    "        if cout==county[j]:\n",
    "            if j == 5:\n",
    "                city = '新竹市'\n",
    "            elif j == 12:\n",
    "                city = '嘉義縣'\n",
    "            #print(j,city,temp,humid)\n",
    "            temp=str(temp)\n",
    "            humid=str(humid)\n",
    "            cur = conn.cursor()\n",
    "            #sql = \"INSERT INTO `station_info`(`id`,`station`, `county`,`longitude`, `latitude`) values(%d,'%s','%s',%f,%f);\"%(sid,station,county,longt,laitt)\n",
    "            #values = (label['SiteId'],label['SiteName'],label['County'],label['Longitude'],label['Latitude'])\n",
    "            sql = \"UPDATE `history` ,`station_info`SET `temp`='%s',`humid`='%s' WHERE history.sid=station_info.id and station_info.county='%s' and EXTRACT(YEAR FROM history.time)=%d and EXTRACT(MONTH FROM history.time)=%d and EXTRACT(DAY FROM history.time)=%d and EXTRACT(HOUR FROM history.time)=%d;\"%(temp,humid,city,Y,M,D,H)\n",
    "            cur.execute(sql)\n",
    "            conn.commit()\n",
    "            #weather.append({'county':city, 'humid':humid, 'temp':temp})"
   ]
  },
  {
   "cell_type": "code",
   "execution_count": 34,
   "metadata": {},
   "outputs": [
    {
     "name": "stderr",
     "output_type": "stream",
     "text": [
      "C:\\Users\\hong5\\anaconda3\\lib\\site-packages\\urllib3\\connectionpool.py:986: InsecureRequestWarning: Unverified HTTPS request is being made to host 'opendata.cwb.gov.tw'. Adding certificate verification is strongly advised. See: https://urllib3.readthedocs.io/en/latest/advanced-usage.html#ssl-warnings\n",
      "  InsecureRequestWarning,\n"
     ]
    }
   ],
   "source": [
    "county = ['基隆','臺北','板橋','桃園','新竹市東區','竹東','苗栗','臺中','田中','南投','西螺','嘉義','太保','臺南','高雄','屏東','宜蘭','瑞穗','臺東','澎湖','金門','馬祖']\n",
    "t = requests.get(\"https://opendata.cwb.gov.tw/api/v1/rest/datastore/O-A0002-001?Authorization=CWB-5702404A-5F4B-4CFE-8162-C11C29E66532&format=JSON\", verify=False)\n",
    "#api_key可能須定期更新\n",
    "c=json.loads(t.text)\n",
    "for i in range(len(c['records']['location'])):\n",
    "    label=c['records']['location'][i]['locationName']\n",
    "    rain=c['records']['location'][i]['weatherElement'][1]['elementValue']#雨量\n",
    "    city=c['records']['location'][i]['parameter'][0]['parameterValue']#城市\n",
    "    if float(rain)< 0:\n",
    "        if float(rain) == -998.0:\n",
    "            rain = 0\n",
    "        else:\n",
    "            rain = np.nan\n",
    "    else:\n",
    "        rain = 1\n",
    "    for j in range(len(county)):\n",
    "        if label==county[j]:\n",
    "            #print(j+1,city,rain)\n",
    "            cur = conn.cursor()\n",
    "            #sql = \"INSERT INTO `station_info`(`id`,`station`, `county`,`longitude`, `latitude`) values(%d,'%s','%s',%f,%f);\"%(sid,station,county,longt,laitt)\n",
    "            #values = (label['SiteId'],label['SiteName'],label['County'],label['Longitude'],label['Latitude'])\n",
    "            sql = \"UPDATE `history` ,`station_info`SET `rain`=%d WHERE history.sid=station_info.id and station_info.county='%s' and EXTRACT(YEAR FROM history.time)=%d and EXTRACT(MONTH FROM history.time)=%d and EXTRACT(DAY FROM history.time)=%d and EXTRACT(HOUR FROM history.time)=%d;\"%(rain,city,Y,M,D,H)\n",
    "            cur.execute(sql)\n",
    "            conn.commit()"
   ]
  }
 ],
 "metadata": {
  "kernelspec": {
   "display_name": "Python 3",
   "language": "python",
   "name": "python3"
  },
  "language_info": {
   "codemirror_mode": {
    "name": "ipython",
    "version": 3
   },
   "file_extension": ".py",
   "mimetype": "text/x-python",
   "name": "python",
   "nbconvert_exporter": "python",
   "pygments_lexer": "ipython3",
   "version": "3.7.7"
  }
 },
 "nbformat": 4,
 "nbformat_minor": 4
}
